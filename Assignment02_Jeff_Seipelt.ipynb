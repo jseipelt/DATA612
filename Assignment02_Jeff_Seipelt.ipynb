{
  "nbformat": 4,
  "nbformat_minor": 0,
  "metadata": {
    "colab": {
      "name": "Assignment02_Jeff_Seipelt.ipynb",
      "provenance": [],
      "collapsed_sections": [],
      "include_colab_link": true
    },
    "kernelspec": {
      "name": "python3",
      "display_name": "Python 3"
    }
  },
  "cells": [
    {
      "cell_type": "markdown",
      "metadata": {
        "id": "view-in-github",
        "colab_type": "text"
      },
      "source": [
        "<a href=\"https://colab.research.google.com/github/jseipelt/DATA612/blob/main/Assignment02_Jeff_Seipelt.ipynb\" target=\"_parent\"><img src=\"https://colab.research.google.com/assets/colab-badge.svg\" alt=\"Open In Colab\"/></a>"
      ]
    },
    {
      "cell_type": "markdown",
      "metadata": {
        "id": "qTVw3jQgGaWL"
      },
      "source": [
        "# Assignment for Week 2"
      ]
    },
    {
      "cell_type": "markdown",
      "metadata": {
        "id": "nXTJBBaqGnqN"
      },
      "source": [
        "## Purpose:     \n",
        "This assignment is intended to help you do the following:   \n",
        "1.\tModify and add information on the dataset by adding and calculating new columns     \n",
        "2.\tWork with dates in a dataset       \n",
        "3.\tLearn how to write and save your work as a csv file from Jupyter Notebook.       \n"
      ]
    },
    {
      "cell_type": "markdown",
      "metadata": {
        "id": "KBQPWLNtHJuG"
      },
      "source": [
        "## Action Items:       \n",
        "•\tCreate a new column using the date column.     \n",
        "  1. Find the maximum date of your data.     \n",
        "  2. Subtract all the dates on the column from the maximum date.       \n",
        "  3. Convert the number of days into number of months.       \n",
        "  4. Save the result on a new column and add to the data set.        \n",
        "  5. Save the dataset as a csv file.        \n",
        "  6. Upload the assignment on your GitHub account and Update the README file where you explain everything you did.      "
      ]
    },
    {
      "cell_type": "code",
      "metadata": {
        "colab": {
          "base_uri": "https://localhost:8080/",
          "height": 35
        },
        "id": "71lRWtGKVbtl",
        "outputId": "de074777-4989-4ab9-9990-5934f57e4d46"
      },
      "source": [
        "import pandas as pd # This is needed to read the .csv file for the dataframe\n",
        "\n",
        "scientists = pd.read_csv('https://raw.githubusercontent.com/chendaniely/\\\n",
        "pandas_for_everyone/master/data/scientists.csv') # pd.read is used to import this csv file and is named scientists for future use.\n",
        "\n",
        "scientists.Born.max() # using the .max function to check the maximum date for both the Born column and Died column "
      ],
      "execution_count": 15,
      "outputs": [
        {
          "output_type": "execute_result",
          "data": {
            "application/vnd.google.colaboratory.intrinsic+json": {
              "type": "string"
            },
            "text/plain": [
              "'1920-07-25'"
            ]
          },
          "metadata": {
            "tags": []
          },
          "execution_count": 15
        }
      ]
    },
    {
      "cell_type": "code",
      "metadata": {
        "colab": {
          "base_uri": "https://localhost:8080/",
          "height": 35
        },
        "id": "956Z18-sWjai",
        "outputId": "7890d7fd-cd92-4c4c-e0d9-a765a54f2f42"
      },
      "source": [
        "scientists.Died.max() # The Died column has the later date between the two and is the true maximum date."
      ],
      "execution_count": 16,
      "outputs": [
        {
          "output_type": "execute_result",
          "data": {
            "application/vnd.google.colaboratory.intrinsic+json": {
              "type": "string"
            },
            "text/plain": [
              "'1964-04-14'"
            ]
          },
          "metadata": {
            "tags": []
          },
          "execution_count": 16
        }
      ]
    },
    {
      "cell_type": "code",
      "metadata": {
        "colab": {
          "base_uri": "https://localhost:8080/"
        },
        "id": "29WGtHe4m7G2",
        "outputId": "275c7c0c-ad56-44cc-ed06-f087dff9eeb8"
      },
      "source": [
        "(pd.to_datetime(scientists.Died.max()) - pd.to_datetime(scientists.Died)) # Converting to datetime allows for an easy calculation showing how many days of difference between the max date and the others."
      ],
      "execution_count": 97,
      "outputs": [
        {
          "output_type": "execute_result",
          "data": {
            "text/plain": [
              "0    2190 days\n",
              "1    9677 days\n",
              "2   19603 days\n",
              "3   10877 days\n",
              "4       0 days\n",
              "5   38653 days\n",
              "6    3599 days\n",
              "7   39862 days\n",
              "Name: Died, dtype: timedelta64[ns]"
            ]
          },
          "metadata": {
            "tags": []
          },
          "execution_count": 97
        }
      ]
    },
    {
      "cell_type": "code",
      "metadata": {
        "colab": {
          "base_uri": "https://localhost:8080/"
        },
        "id": "wL3_Qgv6a5A3",
        "outputId": "f0d386a6-ed0c-424e-8f1f-9b67e2545c7a"
      },
      "source": [
        "import numpy as np\n",
        "\n",
        "(pd.to_datetime(scientists.Died.max()) - pd.to_datetime(scientists.Died)) / np.timedelta64(1,'M') # Using numpys timedelta to take our days calculation and convert it to the number of months instead."
      ],
      "execution_count": 98,
      "outputs": [
        {
          "output_type": "execute_result",
          "data": {
            "text/plain": [
              "0      71.952196\n",
              "1     317.936713\n",
              "2     644.054293\n",
              "3     357.362574\n",
              "4       0.000000\n",
              "5    1269.939834\n",
              "6     118.244728\n",
              "7    1309.661389\n",
              "Name: Died, dtype: float64"
            ]
          },
          "metadata": {
            "tags": []
          },
          "execution_count": 98
        }
      ]
    },
    {
      "cell_type": "code",
      "metadata": {
        "colab": {
          "base_uri": "https://localhost:8080/",
          "height": 297
        },
        "id": "A7Bok9kypdgJ",
        "outputId": "20c83255-931c-4bf4-9d1f-5f2337eddbe5"
      },
      "source": [
        "scientists['max_difference_months'] = (pd.to_datetime(scientists.Died.max()) - pd.to_datetime(scientists.Died)) / np.timedelta64(1,'M') # Assigned this calculation to a new column in the scientists dataframe.\n",
        "\n",
        "scientists"
      ],
      "execution_count": 103,
      "outputs": [
        {
          "output_type": "execute_result",
          "data": {
            "text/html": [
              "<div>\n",
              "<style scoped>\n",
              "    .dataframe tbody tr th:only-of-type {\n",
              "        vertical-align: middle;\n",
              "    }\n",
              "\n",
              "    .dataframe tbody tr th {\n",
              "        vertical-align: top;\n",
              "    }\n",
              "\n",
              "    .dataframe thead th {\n",
              "        text-align: right;\n",
              "    }\n",
              "</style>\n",
              "<table border=\"1\" class=\"dataframe\">\n",
              "  <thead>\n",
              "    <tr style=\"text-align: right;\">\n",
              "      <th></th>\n",
              "      <th>Name</th>\n",
              "      <th>Born</th>\n",
              "      <th>Died</th>\n",
              "      <th>Age</th>\n",
              "      <th>Occupation</th>\n",
              "      <th>max_difference_months</th>\n",
              "    </tr>\n",
              "  </thead>\n",
              "  <tbody>\n",
              "    <tr>\n",
              "      <th>0</th>\n",
              "      <td>Rosaline Franklin</td>\n",
              "      <td>1920-07-25</td>\n",
              "      <td>1958-04-16</td>\n",
              "      <td>37</td>\n",
              "      <td>Chemist</td>\n",
              "      <td>71.952196</td>\n",
              "    </tr>\n",
              "    <tr>\n",
              "      <th>1</th>\n",
              "      <td>William Gosset</td>\n",
              "      <td>1876-06-13</td>\n",
              "      <td>1937-10-16</td>\n",
              "      <td>61</td>\n",
              "      <td>Statistician</td>\n",
              "      <td>317.936713</td>\n",
              "    </tr>\n",
              "    <tr>\n",
              "      <th>2</th>\n",
              "      <td>Florence Nightingale</td>\n",
              "      <td>1820-05-12</td>\n",
              "      <td>1910-08-13</td>\n",
              "      <td>90</td>\n",
              "      <td>Nurse</td>\n",
              "      <td>644.054293</td>\n",
              "    </tr>\n",
              "    <tr>\n",
              "      <th>3</th>\n",
              "      <td>Marie Curie</td>\n",
              "      <td>1867-11-07</td>\n",
              "      <td>1934-07-04</td>\n",
              "      <td>66</td>\n",
              "      <td>Chemist</td>\n",
              "      <td>357.362574</td>\n",
              "    </tr>\n",
              "    <tr>\n",
              "      <th>4</th>\n",
              "      <td>Rachel Carson</td>\n",
              "      <td>1907-05-27</td>\n",
              "      <td>1964-04-14</td>\n",
              "      <td>56</td>\n",
              "      <td>Biologist</td>\n",
              "      <td>0.000000</td>\n",
              "    </tr>\n",
              "    <tr>\n",
              "      <th>5</th>\n",
              "      <td>John Snow</td>\n",
              "      <td>1813-03-15</td>\n",
              "      <td>1858-06-16</td>\n",
              "      <td>45</td>\n",
              "      <td>Physician</td>\n",
              "      <td>1269.939834</td>\n",
              "    </tr>\n",
              "    <tr>\n",
              "      <th>6</th>\n",
              "      <td>Alan Turing</td>\n",
              "      <td>1912-06-23</td>\n",
              "      <td>1954-06-07</td>\n",
              "      <td>41</td>\n",
              "      <td>Computer Scientist</td>\n",
              "      <td>118.244728</td>\n",
              "    </tr>\n",
              "    <tr>\n",
              "      <th>7</th>\n",
              "      <td>Johann Gauss</td>\n",
              "      <td>1777-04-30</td>\n",
              "      <td>1855-02-23</td>\n",
              "      <td>77</td>\n",
              "      <td>Mathematician</td>\n",
              "      <td>1309.661389</td>\n",
              "    </tr>\n",
              "  </tbody>\n",
              "</table>\n",
              "</div>"
            ],
            "text/plain": [
              "                   Name        Born  ...          Occupation  max_difference_months\n",
              "0     Rosaline Franklin  1920-07-25  ...             Chemist              71.952196\n",
              "1        William Gosset  1876-06-13  ...        Statistician             317.936713\n",
              "2  Florence Nightingale  1820-05-12  ...               Nurse             644.054293\n",
              "3           Marie Curie  1867-11-07  ...             Chemist             357.362574\n",
              "4         Rachel Carson  1907-05-27  ...           Biologist               0.000000\n",
              "5             John Snow  1813-03-15  ...           Physician            1269.939834\n",
              "6           Alan Turing  1912-06-23  ...  Computer Scientist             118.244728\n",
              "7          Johann Gauss  1777-04-30  ...       Mathematician            1309.661389\n",
              "\n",
              "[8 rows x 6 columns]"
            ]
          },
          "metadata": {
            "tags": []
          },
          "execution_count": 103
        }
      ]
    },
    {
      "cell_type": "code",
      "metadata": {
        "id": "c2CGQG_7rOIG"
      },
      "source": [
        "scientists.to_csv('scientists_clean.csv', index=False) # .to_csv function used to create a new csv with the added column included."
      ],
      "execution_count": 104,
      "outputs": []
    }
  ]
}